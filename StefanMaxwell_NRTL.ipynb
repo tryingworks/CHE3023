{
  "nbformat": 4,
  "nbformat_minor": 0,
  "metadata": {
    "colab": {
      "name": "StefanMaxwell_NRTL.ipynb",
      "provenance": [],
      "collapsed_sections": [],
      "authorship_tag": "ABX9TyOXvyInPjbbkAwy+Ye6MtLD",
      "include_colab_link": true
    },
    "kernelspec": {
      "name": "python3",
      "display_name": "Python 3"
    }
  },
  "cells": [
    {
      "cell_type": "markdown",
      "metadata": {
        "id": "view-in-github",
        "colab_type": "text"
      },
      "source": [
        "<a href=\"https://colab.research.google.com/github/tryingworks/CHE3023/blob/master/StefanMaxwell_NRTL.ipynb\" target=\"_parent\"><img src=\"https://colab.research.google.com/assets/colab-badge.svg\" alt=\"Open In Colab\"/></a>"
      ]
    },
    {
      "cell_type": "code",
      "metadata": {
        "id": "U0Ldy5aWBHMA",
        "colab_type": "code",
        "colab": {}
      },
      "source": [
        "import tensorflow as tf"
      ],
      "execution_count": 0,
      "outputs": []
    },
    {
      "cell_type": "markdown",
      "metadata": {
        "id": "43iNt4W2By5l",
        "colab_type": "text"
      },
      "source": [
        "#### Using the Non-Random Two Liquid (NRTL) activity coefficient, one can calculate the activity coefficient of a component $\\gamma_i$ in a mixture by:"
      ]
    },
    {
      "cell_type": "markdown",
      "metadata": {
        "id": "RwDkUyAJBigm",
        "colab_type": "text"
      },
      "source": [
        "$$\\ln{\\gamma_i}=\\dfrac{\\sum\\limits_{j=1}^n x_j \\tau_{ji} G_{ji}}{\\sum\\limits_{k=1}^n {x_k G_{ki}}} + \n",
        "\\sum\\limits_{j=1}^n \n",
        "\\dfrac {x_j G_{ij}}{\\sum\\limits_{k=1}^{n}x_k G_{kj}}\n",
        "\\left(\\tau_{ij}-\n",
        "\\dfrac{\\sum\\limits_{m=1}^n x_m \\tau_{mj} G_{mj}}\n",
        "{\\sum\\limits_{k=1}^n x_k G_{kj}}\n",
        "\\right)\n",
        "$$"
      ]
    },
    {
      "cell_type": "markdown",
      "metadata": {
        "id": "9u8fPMYjBuvR",
        "colab_type": "text"
      },
      "source": [
        "$$\\begin{align}\n",
        "G_{ij} &= \\exp \\left(-\\alpha_{ij}\\tau_{ij} \\right) \\\\\n",
        "\\tau_{ij} &= A_{ij} + \\dfrac{B_{ij}}{T} + C_{ij}\\ln{T} + D_{ij}T \\\\\n",
        "\\alpha_{ij} &= \\alpha_{ji}\n",
        "\\end{align}$$\n",
        "\n",
        "\n",
        "here, $x$ is a vector of mole fractions while $\\tau$ and $G$ are matrices calculated from $A$, $B$, $C$, $D$, and $\\alpha$ that are matrices of binary interaction parameters determined experimentally.  Unlike the other matrices, the $\\alpha$ interaction matrix is symmetric."
      ]
    },
    {
      "cell_type": "code",
      "metadata": {
        "id": "cKO9UOmaBJwC",
        "colab_type": "code",
        "colab": {}
      },
      "source": [
        "# For the 3 component mixture: (1) Methanol, (2) Ethanol, and (3) Water system, \n",
        "# the matrices A, C, D are zeros, while B and alpha have been determined experimentally.\n",
        "\n",
        "B=tf.constant( [[   0.,   -155.5,   -24.49],\n",
        " [ 190.06,    0.,    -55.17],\n",
        " [ 307.17,  670.44,    0.  ]])\n",
        "\n",
        "\n",
        "alpha = tf.constant( [[0.,    0.305, 0.3  ],\n",
        " [0.305, 0.,    0.303],\n",
        " [0.3,   0.303, 0.   ]])"
      ],
      "execution_count": 0,
      "outputs": []
    },
    {
      "cell_type": "code",
      "metadata": {
        "id": "hemmv-RcCNO3",
        "colab_type": "code",
        "colab": {}
      },
      "source": [
        "@tf.function\n",
        "def ln_gamma(x,T):\n",
        "  tau = B/T\n",
        "  G = tf.exp(-alpha*tau)\n",
        "  xtauG = tf.einsum('j, ji, ji -> i', x, tau, G)\n",
        "  xG = tf.einsum('k,ki -> i', x, G)\n",
        "  xtauGdivxG = xtauG/xG\n",
        "  return xtauGdivxG + tf.einsum('j,ij,ij -> i', x/xG, G, tau - tf.broadcast_to(xtauGdivxG, (3,3)))"
      ],
      "execution_count": 0,
      "outputs": []
    },
    {
      "cell_type": "code",
      "metadata": {
        "id": "4CbDO3uPC0tn",
        "colab_type": "code",
        "colab": {}
      },
      "source": [
        "x12=tf.Variable([0.2, 0.3])\n",
        "T=300\n",
        "with tf.GradientTape() as g:\n",
        "  g.watch(x12)\n",
        "  x3=tf.Variable([1- tf.reduce_sum(x12)])\n",
        "  x=tf.concat((x12, x3), axis=0)\n",
        "  ln_g = ln_gamma(x, T)\n",
        "dln_g_dx = g.jacobian(ln_g,x12)"
      ],
      "execution_count": 0,
      "outputs": []
    },
    {
      "cell_type": "code",
      "metadata": {
        "id": "PJQ_U96iEs5-",
        "colab_type": "code",
        "colab": {}
      },
      "source": [
        "#thermodynamic factor matrix (Eq 1.31 and 1.32 - Principles and Modern Applications of Mass Transfer Operations\n",
        "#2nd Edition, Benitez)\n",
        "tfm = tf.eye(2)+tf.broadcast_to(x12,(2,2))*dln_g_dx[:2,:]"
      ],
      "execution_count": 0,
      "outputs": []
    },
    {
      "cell_type": "code",
      "metadata": {
        "id": "yLDo7Bylo_9c",
        "colab_type": "code",
        "outputId": "1d6be11b-5e8d-4879-c5e1-66f932c5041f",
        "colab": {
          "base_uri": "https://localhost:8080/",
          "height": 34
        }
      },
      "source": [
        "#driving force\n",
        "dxdz = tf.Variable([0.3, 0.4])\n",
        "d = tf.linalg.matvec(tfm, dxdz)\n",
        "d"
      ],
      "execution_count": 0,
      "outputs": [
        {
          "output_type": "execute_result",
          "data": {
            "text/plain": [
              "<tf.Tensor: shape=(2,), dtype=float32, numpy=array([0.25761628, 0.28023466], dtype=float32)>"
            ]
          },
          "metadata": {
            "tags": []
          },
          "execution_count": 128
        }
      ]
    },
    {
      "cell_type": "code",
      "metadata": {
        "id": "JlEBw9wTzZbM",
        "colab_type": "code",
        "colab": {}
      },
      "source": [
        ""
      ],
      "execution_count": 0,
      "outputs": []
    }
  ]
}